{
 "cells": [
  {
   "cell_type": "markdown",
   "metadata": {},
   "source": [
    "#IMPORTS FOR SPARK AND OTHER PYTHON PACKAGES "
   ]
  },
  {
   "cell_type": "code",
   "execution_count": 914,
   "metadata": {
    "collapsed": false
   },
   "outputs": [],
   "source": [
    "#Get spark/spark home from enviroment and execute spark\n",
    "import os\n",
    "import sys\n"
   ]
  },
  {
   "cell_type": "code",
   "execution_count": 915,
   "metadata": {
    "collapsed": false
   },
   "outputs": [
    {
     "name": "stdout",
     "output_type": "stream",
     "text": [
      "C:\\spark-2.0.1-bin-hadoop2.7\n",
      "Welcome to\n",
      "      ____              __\n",
      "     / __/__  ___ _____/ /__\n",
      "    _\\ \\/ _ \\/ _ `/ __/  '_/\n",
      "   /__ / .__/\\_,_/_/ /_/\\_\\   version 2.0.1\n",
      "      /_/\n",
      "\n",
      "Using Python version 2.7.12 (default, Jun 29 2016 11:07:13)\n",
      "SparkSession available as 'spark'.\n"
     ]
    }
   ],
   "source": [
    "#change the path here\n",
    "MY_PY4j_PATH = 'C:\\\\spark-2.0.1-bin-hadoop2.7\\\\python\\\\lib\\\\py4j-0.10.3-src.zip'\n",
    "spark_home = os.environ.get('SPARK_HOME', None)\n",
    "print(spark_home)\n",
    "if not spark_home:\n",
    "    raise ValueError('SPARK_HOME environment variable is not set')\n",
    "\n",
    "sys.path.insert(0, os.path.join(spark_home,\n",
    "                                \n",
    "                                'python'))\n",
    "\n",
    "## may need to adjust on your system depending on which Spark version you're using and where you installed it.\n",
    "sys.path.insert(0, os.path.join(spark_home, MY_PY4j_PATH)) \n",
    "\n",
    "execfile(os.path.join(spark_home, 'python/pyspark/shell.py'))"
   ]
  },
  {
   "cell_type": "code",
   "execution_count": 916,
   "metadata": {
    "collapsed": true
   },
   "outputs": [],
   "source": [
    "#change path here\n",
    "#Directories\n",
    "MY_VEHICLES_CSV_DATA_DIR = 'C:\\\\Users\\\\Aditya\\\\Desktop\\\\Big_Data_Analytics\\\\final_project\\\\Data\\\\'\n",
    "vehicles_path = os.path.join(MY_VEHICLES_CSV_DATA_DIR, 'vehicles.csv')\n",
    "emissions_path = os.path.join(MY_VEHICLES_CSV_DATA_DIR, 'emissions.csv')"
   ]
  },
  {
   "cell_type": "code",
   "execution_count": 917,
   "metadata": {
    "collapsed": false
   },
   "outputs": [],
   "source": [
    "#Necessary Import \n",
    "import numpy as np\n",
    "import pandas as pd\n",
    "import matplotlib as plt\n",
    "%matplotlib inline\n",
    "import seaborn as sns\n",
    "import matplotlib.pyplot as plt\n",
    "from matplotlib.pyplot import pie, axis, show\n",
    "from sklearn import preprocessing\n",
    "from sklearn.cross_validation import train_test_split\n",
    "from sklearn.neighbors import KNeighborsClassifier\n",
    "from sklearn.naive_bayes import MultinomialNB\n",
    "from sklearn.ensemble import RandomForestClassifier\n",
    "from sklearn.linear_model import LogisticRegression\n",
    "from sklearn.svm import SVC\n",
    "from sklearn.tree import DecisionTreeClassifier, export_graphviz\n",
    "from sklearn.metrics import accuracy_score\n",
    "from sklearn.metrics import precision_recall_fscore_support\n",
    "from sklearn.metrics import classification_report\n",
    "from collections import defaultdict"
   ]
  },
  {
   "cell_type": "code",
   "execution_count": 918,
   "metadata": {
    "collapsed": true
   },
   "outputs": [],
   "source": [
    "import sys, getopt, pprint\n",
    "from pyspark.sql import SQLContext\n",
    "from pyspark.sql.types import *\n",
    "from pyspark import SparkConf\n",
    "from pyspark import SparkContext\n",
    "conf=(SparkConf().setMaster(\"local\").setAppName(\"Cars\").set(\"spark.executor.memory\",\"1g\"))\n",
    "sqlContext = SQLContext(sc)"
   ]
  },
  {
   "cell_type": "markdown",
   "metadata": {},
   "source": [
    "# DATA EXTRACTION AND MANIPULATION"
   ]
  },
  {
   "cell_type": "code",
   "execution_count": 919,
   "metadata": {
    "collapsed": false
   },
   "outputs": [
    {
     "name": "stdout",
     "output_type": "stream",
     "text": [
      "38033\n"
     ]
    }
   ],
   "source": [
    "vehicles = sc.textFile(vehicles_path)\n",
    "print vehicles.count()"
   ]
  },
  {
   "cell_type": "code",
   "execution_count": 920,
   "metadata": {
    "collapsed": false
   },
   "outputs": [
    {
     "name": "stdout",
     "output_type": "stream",
     "text": [
      "83\n"
     ]
    }
   ],
   "source": [
    "header = vehicles.first()\n",
    "fields = [StructField(field_name, StringType(), True) for field_name in header.split(',')]\n",
    "print len(fields)"
   ]
  },
  {
   "cell_type": "code",
   "execution_count": 921,
   "metadata": {
    "collapsed": false
   },
   "outputs": [
    {
     "name": "stdout",
     "output_type": "stream",
     "text": [
      "[u'11.771785714285713,0.0,0.0,0.0,29,29.2472,0,0.0,0.0,0.0,0.0,312,-1,0.0,312.0,28,28.3029,0,0.0,0.0,0.0,0.0,6,3.5,All-Wheel Drive,51,,7,1400,0,Premium,Premium Gasoline,7,-1,27,27.2284,0,0.0,0.0,0.0,0.0,0,0,34387,0,0,Lexus,RX 450h AWD,Y,false,0,0,0,0.0,0.0,0.0,0.0,Auto(AV-S6),38.5412,0.0,38.601,0.0,Small Sport Utility Vehicle 4WD,2014,-750,,,,,Hybrid,,,288V Ni-MH,TYX,,0.0,,Tue Jan 01 00:00:00 EST 2013,Mon Sep 26 00:00:00 EDT 2016,Y,0,0,0']\n"
     ]
    }
   ],
   "source": [
    "#create schema\n",
    "schema = StructType(fields)\n",
    "#vehicles file without header\n",
    "vehicleHeader = vehicles.filter(lambda l: 'barrels08' in l)\n",
    "vehcilesNoHeader = vehicles.subtract(vehicleHeader)\n",
    "print vehcilesNoHeader.take(1)"
   ]
  },
  {
   "cell_type": "code",
   "execution_count": 922,
   "metadata": {
    "collapsed": false
   },
   "outputs": [],
   "source": [
    "vehicles_df = pd.read_csv(vehicles_path)\n",
    "emission_df = pd.read_csv(emissions_path)"
   ]
  },
  {
   "cell_type": "code",
   "execution_count": 923,
   "metadata": {
    "collapsed": true
   },
   "outputs": [],
   "source": [
    "#prints information about dataframe along with percentage of null values\n",
    "def getDfInfo(df):\n",
    "    nrow = df.shape[0]\n",
    "    print \"\\n*****SHAPE********\"\n",
    "    print df.shape\n",
    "    print \"*****NULL PERCENTAGE*********\"\n",
    "    print df.isnull().sum() / nrow"
   ]
  },
  {
   "cell_type": "code",
   "execution_count": 924,
   "metadata": {
    "collapsed": false
   },
   "outputs": [
    {
     "name": "stdout",
     "output_type": "stream",
     "text": [
      "\n",
      "*****SHAPE********\n",
      "(38032, 83)\n",
      "*****NULL PERCENTAGE*********\n",
      "barrels08          0.000000\n",
      "barrelsA08         0.000000\n",
      "charge120          0.000000\n",
      "charge240          0.000000\n",
      "city08             0.000000\n",
      "city08U            0.000000\n",
      "cityA08            0.000000\n",
      "cityA08U           0.000000\n",
      "cityCD             0.000000\n",
      "cityE              0.000000\n",
      "cityUF             0.000000\n",
      "co2                0.000000\n",
      "co2A               0.000000\n",
      "co2TailpipeAGpm    0.000000\n",
      "co2TailpipeGpm     0.000000\n",
      "comb08             0.000000\n",
      "comb08U            0.000000\n",
      "combA08            0.000000\n",
      "combA08U           0.000000\n",
      "combE              0.000000\n",
      "combinedCD         0.000000\n",
      "combinedUF         0.000000\n",
      "cylinders          0.003287\n",
      "displ              0.003234\n",
      "drive              0.031263\n",
      "engId              0.000000\n",
      "eng_dscr           0.404791\n",
      "feScore            0.000000\n",
      "fuelCost08         0.000000\n",
      "fuelCostA08        0.000000\n",
      "                     ...   \n",
      "rangeCity          0.000000\n",
      "rangeCityA         0.000000\n",
      "rangeHwy           0.000000\n",
      "rangeHwyA          0.000000\n",
      "trany              0.000289\n",
      "UCity              0.000000\n",
      "UCityA             0.000000\n",
      "UHighway           0.000000\n",
      "UHighwayA          0.000000\n",
      "VClass             0.000000\n",
      "year               0.000000\n",
      "youSaveSpend       0.000000\n",
      "guzzler            0.939709\n",
      "trans_dscr         0.604412\n",
      "tCharger           0.863010\n",
      "sCharger           0.981857\n",
      "atvType            0.920751\n",
      "fuelType2          0.962479\n",
      "rangeA             0.962610\n",
      "evMotor            0.984750\n",
      "mfrCode            0.809687\n",
      "c240Dscr           0.999001\n",
      "charge240b         0.000000\n",
      "c240bDscr          0.999053\n",
      "createdOn          0.000000\n",
      "modifiedOn         0.000000\n",
      "startStop          0.832720\n",
      "phevCity           0.000000\n",
      "phevHwy            0.000000\n",
      "phevComb           0.000000\n",
      "dtype: float64\n",
      "None\n"
     ]
    }
   ],
   "source": [
    "print getDfInfo(vehicles_df)"
   ]
  },
  {
   "cell_type": "markdown",
   "metadata": {},
   "source": [
    "# EXPLORATORY DATA ANALYSIS"
   ]
  },
  {
   "cell_type": "code",
   "execution_count": 925,
   "metadata": {
    "collapsed": true
   },
   "outputs": [],
   "source": [
    "#deleteing columns with more than 1 NA\n",
    "vehicles_df= vehicles_df.dropna(thresh=len(vehicles_df) - 1, axis=1)"
   ]
  },
  {
   "cell_type": "code",
   "execution_count": 926,
   "metadata": {
    "collapsed": false
   },
   "outputs": [
    {
     "name": "stdout",
     "output_type": "stream",
     "text": [
      "\n",
      "*****SHAPE********\n",
      "(38032, 66)\n",
      "*****NULL PERCENTAGE*********\n",
      "barrels08          0\n",
      "barrelsA08         0\n",
      "charge120          0\n",
      "charge240          0\n",
      "city08             0\n",
      "city08U            0\n",
      "cityA08            0\n",
      "cityA08U           0\n",
      "cityCD             0\n",
      "cityE              0\n",
      "cityUF             0\n",
      "co2                0\n",
      "co2A               0\n",
      "co2TailpipeAGpm    0\n",
      "co2TailpipeGpm     0\n",
      "comb08             0\n",
      "comb08U            0\n",
      "combA08            0\n",
      "combA08U           0\n",
      "combE              0\n",
      "combinedCD         0\n",
      "combinedUF         0\n",
      "engId              0\n",
      "feScore            0\n",
      "fuelCost08         0\n",
      "fuelCostA08        0\n",
      "fuelType           0\n",
      "fuelType1          0\n",
      "ghgScore           0\n",
      "ghgScoreA          0\n",
      "                  ..\n",
      "highwayUF          0\n",
      "hlv                0\n",
      "hpv                0\n",
      "id                 0\n",
      "lv2                0\n",
      "lv4                0\n",
      "make               0\n",
      "model              0\n",
      "mpgData            0\n",
      "phevBlended        0\n",
      "pv2                0\n",
      "pv4                0\n",
      "range              0\n",
      "rangeCity          0\n",
      "rangeCityA         0\n",
      "rangeHwy           0\n",
      "rangeHwyA          0\n",
      "UCity              0\n",
      "UCityA             0\n",
      "UHighway           0\n",
      "UHighwayA          0\n",
      "VClass             0\n",
      "year               0\n",
      "youSaveSpend       0\n",
      "charge240b         0\n",
      "createdOn          0\n",
      "modifiedOn         0\n",
      "phevCity           0\n",
      "phevHwy            0\n",
      "phevComb           0\n",
      "dtype: float64\n"
     ]
    }
   ],
   "source": [
    "getDfInfo(vehicles_df)"
   ]
  },
  {
   "cell_type": "code",
   "execution_count": 927,
   "metadata": {
    "collapsed": false
   },
   "outputs": [],
   "source": [
    "vehicle_emission_df = pd.merge(vehicles_df, emission_df[['score','scoreAlt','id']], how ='left', \n",
    "                                                      on=['id'])"
   ]
  },
  {
   "cell_type": "code",
   "execution_count": 928,
   "metadata": {
    "collapsed": false
   },
   "outputs": [
    {
     "data": {
      "text/html": [
       "<div>\n",
       "<table border=\"1\" class=\"dataframe\">\n",
       "  <thead>\n",
       "    <tr style=\"text-align: right;\">\n",
       "      <th></th>\n",
       "      <th>barrels08</th>\n",
       "      <th>barrelsA08</th>\n",
       "      <th>charge120</th>\n",
       "      <th>charge240</th>\n",
       "      <th>city08</th>\n",
       "      <th>city08U</th>\n",
       "      <th>cityA08</th>\n",
       "      <th>cityA08U</th>\n",
       "      <th>cityCD</th>\n",
       "      <th>cityE</th>\n",
       "      <th>...</th>\n",
       "      <th>year</th>\n",
       "      <th>youSaveSpend</th>\n",
       "      <th>charge240b</th>\n",
       "      <th>createdOn</th>\n",
       "      <th>modifiedOn</th>\n",
       "      <th>phevCity</th>\n",
       "      <th>phevHwy</th>\n",
       "      <th>phevComb</th>\n",
       "      <th>score</th>\n",
       "      <th>scoreAlt</th>\n",
       "    </tr>\n",
       "  </thead>\n",
       "  <tbody>\n",
       "    <tr>\n",
       "      <th>0</th>\n",
       "      <td>15.695714</td>\n",
       "      <td>0</td>\n",
       "      <td>0</td>\n",
       "      <td>0</td>\n",
       "      <td>19</td>\n",
       "      <td>0</td>\n",
       "      <td>0</td>\n",
       "      <td>0</td>\n",
       "      <td>0</td>\n",
       "      <td>0</td>\n",
       "      <td>...</td>\n",
       "      <td>1985</td>\n",
       "      <td>-1500</td>\n",
       "      <td>0</td>\n",
       "      <td>Tue Jan 01 00:00:00 EST 2013</td>\n",
       "      <td>Tue Jan 01 00:00:00 EST 2013</td>\n",
       "      <td>0</td>\n",
       "      <td>0</td>\n",
       "      <td>0</td>\n",
       "      <td>NaN</td>\n",
       "      <td>NaN</td>\n",
       "    </tr>\n",
       "    <tr>\n",
       "      <th>1</th>\n",
       "      <td>29.964545</td>\n",
       "      <td>0</td>\n",
       "      <td>0</td>\n",
       "      <td>0</td>\n",
       "      <td>9</td>\n",
       "      <td>0</td>\n",
       "      <td>0</td>\n",
       "      <td>0</td>\n",
       "      <td>0</td>\n",
       "      <td>0</td>\n",
       "      <td>...</td>\n",
       "      <td>1985</td>\n",
       "      <td>-8500</td>\n",
       "      <td>0</td>\n",
       "      <td>Tue Jan 01 00:00:00 EST 2013</td>\n",
       "      <td>Tue Jan 01 00:00:00 EST 2013</td>\n",
       "      <td>0</td>\n",
       "      <td>0</td>\n",
       "      <td>0</td>\n",
       "      <td>NaN</td>\n",
       "      <td>NaN</td>\n",
       "    </tr>\n",
       "    <tr>\n",
       "      <th>2</th>\n",
       "      <td>12.207778</td>\n",
       "      <td>0</td>\n",
       "      <td>0</td>\n",
       "      <td>0</td>\n",
       "      <td>23</td>\n",
       "      <td>0</td>\n",
       "      <td>0</td>\n",
       "      <td>0</td>\n",
       "      <td>0</td>\n",
       "      <td>0</td>\n",
       "      <td>...</td>\n",
       "      <td>1985</td>\n",
       "      <td>250</td>\n",
       "      <td>0</td>\n",
       "      <td>Tue Jan 01 00:00:00 EST 2013</td>\n",
       "      <td>Tue Jan 01 00:00:00 EST 2013</td>\n",
       "      <td>0</td>\n",
       "      <td>0</td>\n",
       "      <td>0</td>\n",
       "      <td>NaN</td>\n",
       "      <td>NaN</td>\n",
       "    </tr>\n",
       "    <tr>\n",
       "      <th>3</th>\n",
       "      <td>29.964545</td>\n",
       "      <td>0</td>\n",
       "      <td>0</td>\n",
       "      <td>0</td>\n",
       "      <td>10</td>\n",
       "      <td>0</td>\n",
       "      <td>0</td>\n",
       "      <td>0</td>\n",
       "      <td>0</td>\n",
       "      <td>0</td>\n",
       "      <td>...</td>\n",
       "      <td>1985</td>\n",
       "      <td>-8500</td>\n",
       "      <td>0</td>\n",
       "      <td>Tue Jan 01 00:00:00 EST 2013</td>\n",
       "      <td>Tue Jan 01 00:00:00 EST 2013</td>\n",
       "      <td>0</td>\n",
       "      <td>0</td>\n",
       "      <td>0</td>\n",
       "      <td>NaN</td>\n",
       "      <td>NaN</td>\n",
       "    </tr>\n",
       "    <tr>\n",
       "      <th>4</th>\n",
       "      <td>17.347895</td>\n",
       "      <td>0</td>\n",
       "      <td>0</td>\n",
       "      <td>0</td>\n",
       "      <td>17</td>\n",
       "      <td>0</td>\n",
       "      <td>0</td>\n",
       "      <td>0</td>\n",
       "      <td>0</td>\n",
       "      <td>0</td>\n",
       "      <td>...</td>\n",
       "      <td>1993</td>\n",
       "      <td>-4250</td>\n",
       "      <td>0</td>\n",
       "      <td>Tue Jan 01 00:00:00 EST 2013</td>\n",
       "      <td>Tue Jan 01 00:00:00 EST 2013</td>\n",
       "      <td>0</td>\n",
       "      <td>0</td>\n",
       "      <td>0</td>\n",
       "      <td>NaN</td>\n",
       "      <td>NaN</td>\n",
       "    </tr>\n",
       "  </tbody>\n",
       "</table>\n",
       "<p>5 rows × 68 columns</p>\n",
       "</div>"
      ],
      "text/plain": [
       "   barrels08  barrelsA08  charge120  charge240  city08  city08U  cityA08  \\\n",
       "0  15.695714           0          0          0      19        0        0   \n",
       "1  29.964545           0          0          0       9        0        0   \n",
       "2  12.207778           0          0          0      23        0        0   \n",
       "3  29.964545           0          0          0      10        0        0   \n",
       "4  17.347895           0          0          0      17        0        0   \n",
       "\n",
       "   cityA08U  cityCD  cityE    ...     year  youSaveSpend  charge240b  \\\n",
       "0         0       0      0    ...     1985         -1500           0   \n",
       "1         0       0      0    ...     1985         -8500           0   \n",
       "2         0       0      0    ...     1985           250           0   \n",
       "3         0       0      0    ...     1985         -8500           0   \n",
       "4         0       0      0    ...     1993         -4250           0   \n",
       "\n",
       "                      createdOn                    modifiedOn  phevCity  \\\n",
       "0  Tue Jan 01 00:00:00 EST 2013  Tue Jan 01 00:00:00 EST 2013         0   \n",
       "1  Tue Jan 01 00:00:00 EST 2013  Tue Jan 01 00:00:00 EST 2013         0   \n",
       "2  Tue Jan 01 00:00:00 EST 2013  Tue Jan 01 00:00:00 EST 2013         0   \n",
       "3  Tue Jan 01 00:00:00 EST 2013  Tue Jan 01 00:00:00 EST 2013         0   \n",
       "4  Tue Jan 01 00:00:00 EST 2013  Tue Jan 01 00:00:00 EST 2013         0   \n",
       "\n",
       "   phevHwy  phevComb  score  scoreAlt  \n",
       "0        0         0    NaN       NaN  \n",
       "1        0         0    NaN       NaN  \n",
       "2        0         0    NaN       NaN  \n",
       "3        0         0    NaN       NaN  \n",
       "4        0         0    NaN       NaN  \n",
       "\n",
       "[5 rows x 68 columns]"
      ]
     },
     "execution_count": 928,
     "metadata": {},
     "output_type": "execute_result"
    }
   ],
   "source": [
    "vehicle_emission_df.head()"
   ]
  },
  {
   "cell_type": "code",
   "execution_count": 929,
   "metadata": {
    "collapsed": false
   },
   "outputs": [],
   "source": [
    "makecount = pd.value_counts(vehicle_emission_df['make'].values, sort=False)\n",
    "makecount = makecount.to_frame().reset_index()\n",
    "makecount.columns = ('make','count')\n",
    "makecount = makecount[makecount['count']>500]"
   ]
  },
  {
   "cell_type": "code",
   "execution_count": 930,
   "metadata": {
    "collapsed": false
   },
   "outputs": [
    {
     "data": {
      "image/png": "[encoded data removed]",
      "text/plain": [
       "<matplotlib.figure.Figure at 0x4072a6d8>"
      ]
     },
     "metadata": {},
     "output_type": "display_data"
    }
   ],
   "source": [
    "plt.figure(figsize=(8, 8))\n",
    "pie(makecount['count'], labels=makecount['make']);\n",
    "show()"
   ]
  },
  {
   "cell_type": "code",
   "execution_count": 931,
   "metadata": {
    "collapsed": false
   },
   "outputs": [],
   "source": [
    "vclass_co2_df = vehicle_emission_df[vehicle_emission_df['co2'] >= 0]\n",
    "vclass_co2_df=pd.DataFrame(vclass_co2_df.groupby(vclass_co2_df['VClass'])['co2'].mean().reset_index())\n"
   ]
  },
  {
   "cell_type": "code",
   "execution_count": 932,
   "metadata": {
    "collapsed": true
   },
   "outputs": [],
   "source": [
    "group_data1 = vclass_co2_df.sort('co2',ascending=False)[0:5]"
   ]
  },
  {
   "cell_type": "code",
   "execution_count": 933,
   "metadata": {
    "collapsed": true
   },
   "outputs": [],
   "source": [
    "group_data2 = vclass_co2_df.sort('co2',ascending=True)[0:5]"
   ]
  },
  {
   "cell_type": "code",
   "execution_count": 934,
   "metadata": {
    "collapsed": false,
    "scrolled": true
   },
   "outputs": [
    {
     "data": {
      "image/png": "[encoded data removed]",
      "text/plain": [
       "<matplotlib.figure.Figure at 0x4a42e630>"
      ]
     },
     "metadata": {},
     "output_type": "display_data"
    },
    {
     "data": {
      "text/plain": [
       "<matplotlib.figure.Figure at 0x3a342d68>"
      ]
     },
     "metadata": {},
     "output_type": "display_data"
    }
   ],
   "source": [
    "#5 Car vehicle class with highest CO2 emission\n",
    "sns.barplot(x='VClass', y='co2', data=group_data1 , label='make')\n",
    "plt.figure(figsize=(8, 8))\n",
    "plt.savefig(\"Car_vehicle_class_highest_CO2_emission.png\")"
   ]
  },
  {
   "cell_type": "code",
   "execution_count": 935,
   "metadata": {
    "collapsed": false
   },
   "outputs": [
    {
     "data": {
      "image/png": "[encoded data removed]",
      "text/plain": [
       "<matplotlib.figure.Figure at 0x407412e8>"
      ]
     },
     "metadata": {},
     "output_type": "display_data"
    },
    {
     "data": {
      "text/plain": [
       "<matplotlib.figure.Figure at 0x37c4ae80>"
      ]
     },
     "metadata": {},
     "output_type": "display_data"
    }
   ],
   "source": [
    "#5 Car vehicle class with lowest CO2 emission\n",
    "sns.barplot(x='VClass', y='co2', data=group_data2)\n",
    "plt.figure(figsize=(8, 8))\n",
    "#change path here\n",
    "\n",
    "plt.savefig(\"Car_vehicle_class_with_lowest_CO2_emission.png\")"
   ]
  },
  {
   "cell_type": "code",
   "execution_count": 936,
   "metadata": {
    "collapsed": false
   },
   "outputs": [],
   "source": [
    "make_co2_df = vehicle_emission_df[vehicle_emission_df['co2'] >= 0]\n",
    "make_co2_df=pd.DataFrame(make_co2_df.groupby(make_co2_df['make'])['co2'].mean().reset_index())\n"
   ]
  },
  {
   "cell_type": "code",
   "execution_count": 937,
   "metadata": {
    "collapsed": false
   },
   "outputs": [],
   "source": [
    "group_data1 = make_co2_df.sort('co2',ascending=False)[0:5]"
   ]
  },
  {
   "cell_type": "code",
   "execution_count": 938,
   "metadata": {
    "collapsed": true
   },
   "outputs": [],
   "source": [
    "group_data2 = make_co2_df.sort('co2',ascending=True)[0:5]"
   ]
  },
  {
   "cell_type": "code",
   "execution_count": 939,
   "metadata": {
    "collapsed": false
   },
   "outputs": [
    {
     "data": {
      "image/png": "[encoded data removed]",
      "text/plain": [
       "<matplotlib.figure.Figure at 0x2d705978>"
      ]
     },
     "metadata": {},
     "output_type": "display_data"
    },
    {
     "data": {
      "text/plain": [
       "<matplotlib.figure.Figure at 0x3a0b8a20>"
      ]
     },
     "metadata": {},
     "output_type": "display_data"
    }
   ],
   "source": [
    "#5 Car vehicle class with highest CO2 emission\n",
    "sns.barplot(x='make', y='co2', data=group_data1 , label='make')\n",
    "plt.figure(figsize=(8, 8))\n",
    "#change path here\n",
    "\n",
    "plt.savefig(\"Car_vehicle_make_highest_CO2_emission.png\")"
   ]
  },
  {
   "cell_type": "code",
   "execution_count": 940,
   "metadata": {
    "collapsed": false
   },
   "outputs": [
    {
     "data": {
      "image/png": "[encoded data removed]",
      "text/plain": [
       "<matplotlib.figure.Figure at 0x37c11898>"
      ]
     },
     "metadata": {},
     "output_type": "display_data"
    },
    {
     "data": {
      "text/plain": [
       "<matplotlib.figure.Figure at 0x3c446b38>"
      ]
     },
     "metadata": {},
     "output_type": "display_data"
    }
   ],
   "source": [
    "#5 Car vehicle class with lowest CO2 emission\n",
    "sns.barplot(x='make', y='co2', data=group_data2)\n",
    "plt.figure(figsize=(8, 8))\n",
    "#change path here\n",
    "\n",
    "plt.savefig(\"Car_vehicle_make_with_lowest_CO2_emission.png\")"
   ]
  },
  {
   "cell_type": "code",
   "execution_count": 941,
   "metadata": {
    "collapsed": true
   },
   "outputs": [],
   "source": [
    "fuel_type_co2_df = vehicle_emission_df[vehicle_emission_df['co2'] >= 0]\n",
    "fuel_type_co2_df=pd.DataFrame(fuel_type_co2_df.groupby(fuel_type_co2_df['fuelType'])['co2'].mean().reset_index())\n",
    "\n"
   ]
  },
  {
   "cell_type": "code",
   "execution_count": 942,
   "metadata": {
    "collapsed": true
   },
   "outputs": [],
   "source": [
    "group_data1 = fuel_type_co2_df.sort('co2',ascending=False)[0:5]\n",
    "group_data2 = fuel_type_co2_df.sort('co2',ascending=True)[0:5]"
   ]
  },
  {
   "cell_type": "code",
   "execution_count": 943,
   "metadata": {
    "collapsed": false
   },
   "outputs": [
    {
     "data": {
      "image/png": "[encoded data removed]",
      "text/plain": [
       "<matplotlib.figure.Figure at 0x37c11898>"
      ]
     },
     "metadata": {},
     "output_type": "display_data"
    }
   ],
   "source": [
    "#5 Car vehicle fuel type with highest CO2 emission\n",
    "sns.barplot(x='fuelType', y='co2', data=group_data1 , label='Fuel Type')\n",
    "#change path here\n",
    "\n",
    "plt.savefig(\"Car_vehicle_fuel_type_highest_CO2_emission.png\")"
   ]
  },
  {
   "cell_type": "code",
   "execution_count": 944,
   "metadata": {
    "collapsed": false
   },
   "outputs": [
    {
     "data": {
      "image/png": "[encoded data removed]",
      "text/plain": [
       "<matplotlib.figure.Figure at 0x3e3f0ef0>"
      ]
     },
     "metadata": {},
     "output_type": "display_data"
    }
   ],
   "source": [
    "#5 Car vehicle fuel type with lowest CO2 emission\n",
    "sns.barplot(x='fuelType', y='co2', data=group_data2)\n",
    "#change path here\n",
    "plt.savefig(\"Car_vehicle_fuel_type_with_lowest_CO2_emission.png\")"
   ]
  },
  {
   "cell_type": "code",
   "execution_count": 945,
   "metadata": {
    "collapsed": false
   },
   "outputs": [
    {
     "data": {
      "image/png": "[encoded data removed]",
      "text/plain": [
       "<matplotlib.figure.Figure at 0x267352e8>"
      ]
     },
     "metadata": {},
     "output_type": "display_data"
    }
   ],
   "source": [
    "\n",
    "#How You save spend has varied over years\n",
    "\n",
    "sns.factorplot(data=vehicle_emission_df, x=\"year\", y=\"fuelCost08\",size=4, aspect=2,label = 'FuelCost vs Year')  \n",
    "#change path here\n",
    "\n",
    "plt.savefig(\"fuelCostOvertheYears.png\")\n"
   ]
  },
  {
   "cell_type": "code",
   "execution_count": 946,
   "metadata": {
    "collapsed": false
   },
   "outputs": [
    {
     "data": {
      "image/png": "[encoded data removed]",
      "text/plain": [
       "<matplotlib.figure.Figure at 0x3d8ec048>"
      ]
     },
     "metadata": {},
     "output_type": "display_data"
    }
   ],
   "source": [
    "sns.factorplot(data=vehicle_emission_df, x=\"year\", y=\"co2TailpipeGpm\",size=4, aspect=2,label = 'co2TailPipe vs Year')  \n",
    "#change path here\n",
    "\n",
    "plt.savefig(\"co2OvertheYears.png\")"
   ]
  },
  {
   "cell_type": "code",
   "execution_count": 947,
   "metadata": {
    "collapsed": false
   },
   "outputs": [
    {
     "data": {
      "image/png": "[encoded data removed]",
      "text/plain": [
       "<matplotlib.figure.Figure at 0x3d8ecdd8>"
      ]
     },
     "metadata": {},
     "output_type": "display_data"
    }
   ],
   "source": [
    "#As score ranges from 1 to 10 remove rows having -2 and -12\n",
    "vehicle_emission_df_save_spend  = vehicle_emission_df[vehicle_emission_df.score>0]\n",
    "sns.factorplot(data=vehicle_emission_df_save_spend, x=\"year\", y=\"youSaveSpend\",size=4, aspect=2,label = 'SaveSpend vs Year')\n",
    "#change path here\n",
    "\n",
    "plt.savefig(\"youSaveSpendOverYears.png\")"
   ]
  },
  {
   "cell_type": "markdown",
   "metadata": {},
   "source": [
    "# FEATURE EXTRACTION FOR MODELLING"
   ]
  },
  {
   "cell_type": "code",
   "execution_count": 948,
   "metadata": {
    "collapsed": false
   },
   "outputs": [],
   "source": [
    "#Modelling Data to predict \n",
    "\n",
    "#Feature Selection \n",
    "#removing columns with NA and replacing -1 with 0 i.e. missing data\n",
    "vehicle_emission_df= vehicle_emission_df.dropna(axis=0)\n",
    "vehicle_emission_df = vehicle_emission_df.replace(-1,0)"
   ]
  },
  {
   "cell_type": "code",
   "execution_count": 949,
   "metadata": {
    "collapsed": false
   },
   "outputs": [
    {
     "name": "stdout",
     "output_type": "stream",
     "text": [
      "\n",
      "*****SHAPE********\n",
      "(31397, 68)\n",
      "*****Zero PERCENTAGE*********\n",
      "barrels08          0.000000\n",
      "barrelsA08         0.933401\n",
      "charge120          1.000000\n",
      "charge240          0.990795\n",
      "city08             0.000000\n",
      "city08U            0.455075\n",
      "cityA08            0.933401\n",
      "cityA08U           0.948148\n",
      "cityCD             0.999236\n",
      "cityE              0.990795\n",
      "cityUF             0.996051\n",
      "co2                0.606491\n",
      "co2A               0.968819\n",
      "co2TailpipeAGpm    0.937351\n",
      "co2TailpipeGpm     0.005255\n",
      "comb08             0.000000\n",
      "comb08U            0.455075\n",
      "combA08            0.933401\n",
      "combA08U           0.948148\n",
      "combE              0.990795\n",
      "combinedCD         0.998981\n",
      "combinedUF         0.996051\n",
      "engId              0.394974\n",
      "feScore            0.602032\n",
      "fuelCost08         0.000000\n",
      "fuelCostA08        0.935726\n",
      "fuelType           0.000000\n",
      "fuelType1          0.000000\n",
      "ghgScore           0.602032\n",
      "ghgScoreA          0.967067\n",
      "                     ...   \n",
      "hpv                0.920056\n",
      "id                 0.000000\n",
      "lv2                0.852151\n",
      "lv4                0.612670\n",
      "make               0.000000\n",
      "model              0.000000\n",
      "mpgData            0.000000\n",
      "phevBlended        0.997675\n",
      "pv2                0.852151\n",
      "pv4                0.612670\n",
      "range              0.994745\n",
      "rangeCity          0.994936\n",
      "rangeCityA         0.996051\n",
      "rangeHwy           0.994936\n",
      "rangeHwyA          0.996051\n",
      "UCity              0.000000\n",
      "UCityA             0.933401\n",
      "UHighway           0.000000\n",
      "UHighwayA          0.933401\n",
      "VClass             0.000000\n",
      "year               0.000000\n",
      "youSaveSpend       0.029238\n",
      "charge240b         0.998185\n",
      "createdOn          0.000000\n",
      "modifiedOn         0.000000\n",
      "phevCity           0.996051\n",
      "phevHwy            0.996051\n",
      "phevComb           0.996051\n",
      "score              0.000000\n",
      "scoreAlt           0.986241\n",
      "dtype: float64\n"
     ]
    }
   ],
   "source": [
    "#prints information about dataframe along with percentage of null values\n",
    "def getDfZeroInfo(df):\n",
    "    nrow = df.shape[0]\n",
    "    print \"\\n*****SHAPE********\"\n",
    "    print df.shape\n",
    "    print \"*****Zero PERCENTAGE*********\"\n",
    "    print (df.shape[0] - df.astype(bool).sum(axis=0))/nrow\n",
    "getDfZeroInfo(vehicle_emission_df)"
   ]
  },
  {
   "cell_type": "code",
   "execution_count": 950,
   "metadata": {
    "collapsed": false
   },
   "outputs": [
    {
     "name": "stdout",
     "output_type": "stream",
     "text": [
      "['barrels08' 'city08' 'co2TailpipeGpm' 'comb08' 'fuelCost08' 'fuelType'\n",
      " 'fuelType1' 'highway08' 'id' 'make' 'model' 'mpgData' 'UCity' 'UHighway'\n",
      " 'VClass' 'year' 'youSaveSpend' 'createdOn' 'modifiedOn' 'score']\n"
     ]
    }
   ],
   "source": [
    "#Selecting columns with less than 30% of zeroes in their data \n",
    "columns_to_select = (vehicle_emission_df.shape[0] - vehicle_emission_df.astype(bool).sum(axis=0))/vehicle_emission_df.shape[0]\n",
    "columns_to_select = np.where(columns_to_select.values<0.30,columns_to_select.index,None)\n",
    "columns_to_select = columns_to_select[columns_to_select != np.array(None)]\n",
    "print columns_to_select"
   ]
  },
  {
   "cell_type": "code",
   "execution_count": 951,
   "metadata": {
    "collapsed": false
   },
   "outputs": [],
   "source": [
    "#Removing ids and dates as they do not contribute to our prediction\n",
    "vehicle_emission_df = vehicle_emission_df[['barrels08', 'city08', 'co2TailpipeGpm' ,'comb08'\n",
    ", 'fuelCost08' ,'fuelType' ,'fuelType1' ,'highway08','make',\n",
    " 'model' ,'UCity' ,'UHighway' ,'VClass' ,'year', 'youSaveSpend', 'score']]"
   ]
  },
  {
   "cell_type": "code",
   "execution_count": 952,
   "metadata": {
    "collapsed": false
   },
   "outputs": [
    {
     "name": "stdout",
     "output_type": "stream",
     "text": [
      "\n",
      "*****SHAPE********\n",
      "(31397, 16)\n",
      "*****NULL PERCENTAGE*********\n",
      "barrels08         0\n",
      "city08            0\n",
      "co2TailpipeGpm    0\n",
      "comb08            0\n",
      "fuelCost08        0\n",
      "fuelType          0\n",
      "fuelType1         0\n",
      "highway08         0\n",
      "make              0\n",
      "model             0\n",
      "UCity             0\n",
      "UHighway          0\n",
      "VClass            0\n",
      "year              0\n",
      "youSaveSpend      0\n",
      "score             0\n",
      "dtype: float64\n"
     ]
    }
   ],
   "source": [
    "getDfInfo(vehicle_emission_df)"
   ]
  },
  {
   "cell_type": "code",
   "execution_count": 953,
   "metadata": {
    "collapsed": false
   },
   "outputs": [
    {
     "data": {
      "image/png": "[encoded data removed]",
      "text/plain": [
       "<matplotlib.figure.Figure at 0x37ef77b8>"
      ]
     },
     "metadata": {},
     "output_type": "display_data"
    }
   ],
   "source": [
    "#5 Distribution of Class variable\n",
    "count_of_class_df=pd.DataFrame(vehicle_emission_df.groupby(vehicle_emission_df['score']).count().reset_index())\n",
    "sns.barplot(x='score', y='make', data=count_of_class_df , label='Count of Scores')\n",
    "#change path here\n",
    "\n",
    "plt.savefig(\"Distribution_of_Scores.png\")"
   ]
  },
  {
   "cell_type": "code",
   "execution_count": 954,
   "metadata": {
    "collapsed": false
   },
   "outputs": [
    {
     "data": {
      "text/html": [
       "<div>\n",
       "<table border=\"1\" class=\"dataframe\">\n",
       "  <thead>\n",
       "    <tr style=\"text-align: right;\">\n",
       "      <th></th>\n",
       "      <th>fuelType</th>\n",
       "      <th>fuelType1</th>\n",
       "      <th>make</th>\n",
       "      <th>model</th>\n",
       "      <th>VClass</th>\n",
       "      <th>year</th>\n",
       "      <th>barrels08</th>\n",
       "      <th>city08</th>\n",
       "      <th>co2TailpipeGpm</th>\n",
       "      <th>comb08</th>\n",
       "      <th>fuelCost08</th>\n",
       "      <th>highway08</th>\n",
       "      <th>UCity</th>\n",
       "      <th>UHighway</th>\n",
       "      <th>youSaveSpend</th>\n",
       "      <th>score</th>\n",
       "    </tr>\n",
       "  </thead>\n",
       "  <tbody>\n",
       "    <tr>\n",
       "      <th>10370</th>\n",
       "      <td>6</td>\n",
       "      <td>4</td>\n",
       "      <td>0</td>\n",
       "      <td>1436</td>\n",
       "      <td>21</td>\n",
       "      <td>0</td>\n",
       "      <td>18.311667</td>\n",
       "      <td>16</td>\n",
       "      <td>493.722222</td>\n",
       "      <td>18</td>\n",
       "      <td>2200</td>\n",
       "      <td>22</td>\n",
       "      <td>19.4</td>\n",
       "      <td>31.0</td>\n",
       "      <td>-4750</td>\n",
       "      <td>1</td>\n",
       "    </tr>\n",
       "    <tr>\n",
       "      <th>10371</th>\n",
       "      <td>6</td>\n",
       "      <td>4</td>\n",
       "      <td>0</td>\n",
       "      <td>1436</td>\n",
       "      <td>21</td>\n",
       "      <td>0</td>\n",
       "      <td>18.311667</td>\n",
       "      <td>16</td>\n",
       "      <td>493.722222</td>\n",
       "      <td>18</td>\n",
       "      <td>2200</td>\n",
       "      <td>22</td>\n",
       "      <td>19.4</td>\n",
       "      <td>31.0</td>\n",
       "      <td>-4750</td>\n",
       "      <td>1</td>\n",
       "    </tr>\n",
       "    <tr>\n",
       "      <th>10372</th>\n",
       "      <td>6</td>\n",
       "      <td>4</td>\n",
       "      <td>0</td>\n",
       "      <td>1436</td>\n",
       "      <td>21</td>\n",
       "      <td>0</td>\n",
       "      <td>18.311667</td>\n",
       "      <td>16</td>\n",
       "      <td>493.722222</td>\n",
       "      <td>18</td>\n",
       "      <td>2200</td>\n",
       "      <td>22</td>\n",
       "      <td>19.3</td>\n",
       "      <td>31.1</td>\n",
       "      <td>-4750</td>\n",
       "      <td>1</td>\n",
       "    </tr>\n",
       "    <tr>\n",
       "      <th>10373</th>\n",
       "      <td>6</td>\n",
       "      <td>4</td>\n",
       "      <td>0</td>\n",
       "      <td>1436</td>\n",
       "      <td>21</td>\n",
       "      <td>0</td>\n",
       "      <td>18.311667</td>\n",
       "      <td>16</td>\n",
       "      <td>493.722222</td>\n",
       "      <td>18</td>\n",
       "      <td>2200</td>\n",
       "      <td>22</td>\n",
       "      <td>19.3</td>\n",
       "      <td>31.1</td>\n",
       "      <td>-4750</td>\n",
       "      <td>1</td>\n",
       "    </tr>\n",
       "    <tr>\n",
       "      <th>10374</th>\n",
       "      <td>6</td>\n",
       "      <td>4</td>\n",
       "      <td>3</td>\n",
       "      <td>1955</td>\n",
       "      <td>21</td>\n",
       "      <td>0</td>\n",
       "      <td>15.695714</td>\n",
       "      <td>18</td>\n",
       "      <td>423.190476</td>\n",
       "      <td>21</td>\n",
       "      <td>1900</td>\n",
       "      <td>26</td>\n",
       "      <td>22.0</td>\n",
       "      <td>36.2</td>\n",
       "      <td>-3250</td>\n",
       "      <td>1</td>\n",
       "    </tr>\n",
       "  </tbody>\n",
       "</table>\n",
       "</div>"
      ],
      "text/plain": [
       "       fuelType  fuelType1  make  model  VClass  year  barrels08  city08  \\\n",
       "10370         6          4     0   1436      21     0  18.311667      16   \n",
       "10371         6          4     0   1436      21     0  18.311667      16   \n",
       "10372         6          4     0   1436      21     0  18.311667      16   \n",
       "10373         6          4     0   1436      21     0  18.311667      16   \n",
       "10374         6          4     3   1955      21     0  15.695714      18   \n",
       "\n",
       "       co2TailpipeGpm  comb08  fuelCost08  highway08  UCity  UHighway  \\\n",
       "10370      493.722222      18        2200         22   19.4      31.0   \n",
       "10371      493.722222      18        2200         22   19.4      31.0   \n",
       "10372      493.722222      18        2200         22   19.3      31.1   \n",
       "10373      493.722222      18        2200         22   19.3      31.1   \n",
       "10374      423.190476      21        1900         26   22.0      36.2   \n",
       "\n",
       "       youSaveSpend  score  \n",
       "10370         -4750      1  \n",
       "10371         -4750      1  \n",
       "10372         -4750      1  \n",
       "10373         -4750      1  \n",
       "10374         -3250      1  "
      ]
     },
     "execution_count": 954,
     "metadata": {},
     "output_type": "execute_result"
    }
   ],
   "source": [
    "#preprocessing data\n",
    "#converting all categorical to discrete\n",
    "vehicle_emission_df = vehicle_emission_df[vehicle_emission_df['score']>0]\n",
    "d = defaultdict(preprocessing.LabelEncoder)\n",
    "vehicle_emission_encoded_df = vehicle_emission_df[['fuelType' ,'fuelType1','make',\n",
    " 'model' ,'VClass' ,'year']].apply(lambda x: d[x.name].fit_transform(x))\n",
    "\n",
    "vehicle_emission_encoded_df_full = vehicle_emission_encoded_df.join(vehicle_emission_df[['barrels08', 'city08', 'co2TailpipeGpm' ,'comb08'\n",
    ", 'fuelCost08' , 'highway08', 'UCity' ,'UHighway' , 'youSaveSpend','score']])\n",
    "\n",
    "vehicle_emission_encoded_df_full.head()\n",
    "# Inverse the encoded\n",
    "#fit.apply(lambda x: d[x.name].inverse_transform(x))\n",
    "\n",
    "# Using the dictionary to label future data\n",
    "#df.apply(lambda x: d[x.name].transform(x))\n",
    "\n"
   ]
  },
  {
   "cell_type": "markdown",
   "metadata": {},
   "source": [
    "# DATA MODELING"
   ]
  },
  {
   "cell_type": "code",
   "execution_count": 955,
   "metadata": {
    "collapsed": false
   },
   "outputs": [
    {
     "data": {
      "text/plain": [
       "(25101, 15)"
      ]
     },
     "execution_count": 955,
     "metadata": {},
     "output_type": "execute_result"
    }
   ],
   "source": [
    "#train test split\n",
    "vehicle_emission = vehicle_emission_encoded_df_full.ix[:,0:15]\n",
    "vehicle_emission_score = vehicle_emission_encoded_df_full.ix[:,15:16]\n",
    "X_train, X_test, y_train, y_test = train_test_split(vehicle_emission, vehicle_emission_score, test_size=0.2, random_state=0)\n",
    "X_train.shape"
   ]
  },
  {
   "cell_type": "code",
   "execution_count": 956,
   "metadata": {
    "collapsed": false
   },
   "outputs": [
    {
     "data": {
      "text/plain": [
       "array([[ 0.42763372,  0.07692308,  0.42027681, ...,  0.07227234,\n",
       "         0.15972222,  0.74358974],\n",
       "       [ 0.49917951,  0.05384615,  0.5       , ...,  0.04942153,\n",
       "         0.11527778,  0.57692308],\n",
       "       [ 0.44909746,  0.07692308,  0.44964555, ...,  0.07010045,\n",
       "         0.12037431,  0.62820513],\n",
       "       ..., \n",
       "       [ 0.44909746,  0.06923077,  0.45      , ...,  0.05987392,\n",
       "         0.13750278,  0.62820513],\n",
       "       [ 0.44909746,  0.06923077,  0.45      , ...,  0.06496487,\n",
       "         0.12826667,  0.62820513],\n",
       "       [ 0.44909746,  0.06923077,  0.45      , ...,  0.06430113,\n",
       "         0.1375    ,  0.62820513]])"
      ]
     },
     "execution_count": 956,
     "metadata": {},
     "output_type": "execute_result"
    }
   ],
   "source": [
    "#normalizing the data on X_train and X_test\n",
    "min_max=preprocessing.MinMaxScaler()\n",
    "X_train_minmax=min_max.fit_transform(X_train[['barrels08', 'city08', 'co2TailpipeGpm' ,'comb08'\n",
    ", 'fuelCost08' , 'highway08', 'UCity' ,'UHighway' , 'youSaveSpend']])\n",
    "X_test_minmax=min_max.fit_transform(X_test[['barrels08', 'city08', 'co2TailpipeGpm' ,'comb08'\n",
    ", 'fuelCost08' , 'highway08', 'UCity' ,'UHighway' , 'youSaveSpend']])\n",
    "X_train_minmax"
   ]
  },
  {
   "cell_type": "code",
   "execution_count": 957,
   "metadata": {
    "collapsed": false
   },
   "outputs": [
    {
     "data": {
      "text/plain": [
       "5     0.452094\n",
       "6     0.322338\n",
       "1     0.085017\n",
       "2     0.045656\n",
       "9     0.040835\n",
       "7     0.028206\n",
       "8     0.017967\n",
       "10    0.005617\n",
       "3     0.002191\n",
       "4     0.000080\n",
       "dtype: float64"
      ]
     },
     "execution_count": 957,
     "metadata": {},
     "output_type": "execute_result"
    }
   ],
   "source": [
    "#let's consider the base class\n",
    "y_train.score.value_counts()/y_train.score.count() \n"
   ]
  },
  {
   "cell_type": "code",
   "execution_count": 958,
   "metadata": {
    "collapsed": false
   },
   "outputs": [
    {
     "name": "stdout",
     "output_type": "stream",
     "text": [
      "0.416985340982\n",
      "             precision    recall  f1-score   support\n",
      "\n",
      "        1.0       0.13      0.11      0.12       520\n",
      "        2.0       0.24      0.36      0.29       264\n",
      "        3.0       0.00      0.00      0.00        12\n",
      "        5.0       0.50      0.60      0.55      2859\n",
      "        6.0       0.38      0.34      0.36      2017\n",
      "        7.0       0.27      0.19      0.22       177\n",
      "        8.0       0.27      0.02      0.04       129\n",
      "        9.0       0.29      0.04      0.06       274\n",
      "       10.0       1.00      1.00      1.00        24\n",
      "\n",
      "avg / total       0.40      0.42      0.40      6276\n",
      "\n"
     ]
    }
   ],
   "source": [
    "#KNN on MultiClass\n",
    "knn=KNeighborsClassifier(n_neighbors=10)\n",
    "y_pred = knn.fit(X_train_minmax,y_train.values.ravel()).predict(X_test_minmax)\n",
    "print accuracy_score(y_test,y_pred)\n",
    "print classification_report(y_test, y_pred) "
   ]
  },
  {
   "cell_type": "code",
   "execution_count": 959,
   "metadata": {
    "collapsed": false
   },
   "outputs": [
    {
     "name": "stdout",
     "output_type": "stream",
     "text": [
      "********Multinomial Naive Bayes***********\n",
      "0.458094327597\n",
      "             precision    recall  f1-score   support\n",
      "\n",
      "        1.0       0.00      0.00      0.00       520\n",
      "        2.0       0.00      0.00      0.00       264\n",
      "        3.0       0.00      0.00      0.00        12\n",
      "        5.0       0.46      1.00      0.63      2859\n",
      "        6.0       0.00      0.00      0.00      2017\n",
      "        7.0       0.00      0.00      0.00       177\n",
      "        8.0       0.00      0.00      0.00       129\n",
      "        9.0       0.00      0.00      0.00       274\n",
      "       10.0       1.00      0.67      0.80        24\n",
      "\n",
      "avg / total       0.21      0.46      0.29      6276\n",
      "\n"
     ]
    }
   ],
   "source": [
    "#Multinomial NB\n",
    "mnb = MultinomialNB()\n",
    "y_pred = mnb.fit(X_train_minmax, y_train.values.ravel()).predict(X_test_minmax)\n",
    "print '********Multinomial Naive Bayes***********'\n",
    "print accuracy_score(y_test,y_pred)\n",
    "print classification_report(y_test, y_pred) "
   ]
  },
  {
   "cell_type": "code",
   "execution_count": 960,
   "metadata": {
    "collapsed": false
   },
   "outputs": [
    {
     "name": "stdout",
     "output_type": "stream",
     "text": [
      "********Random Forest Classifier***********\n",
      "0.41459528362\n",
      "             precision    recall  f1-score   support\n",
      "\n",
      "        1.0       0.16      0.08      0.10       520\n",
      "        2.0       0.23      0.27      0.25       264\n",
      "        3.0       0.00      0.00      0.00        12\n",
      "        5.0       0.52      0.44      0.48      2859\n",
      "        6.0       0.37      0.57      0.45      2017\n",
      "        7.0       0.29      0.14      0.18       177\n",
      "        8.0       0.32      0.12      0.17       129\n",
      "        9.0       0.35      0.03      0.06       274\n",
      "       10.0       1.00      1.00      1.00        24\n",
      "\n",
      "avg / total       0.41      0.41      0.40      6276\n",
      "\n"
     ]
    }
   ],
   "source": [
    "#Random Forest Classifier\n",
    "clf = RandomForestClassifier(n_estimators=100)\n",
    "y_pred = clf.fit(X_train_minmax, y_train.values.ravel()).predict(X_test_minmax)\n",
    "print '********Random Forest Classifier***********'\n",
    "print accuracy_score(y_test,y_pred)\n",
    "print classification_report(y_test, y_pred)"
   ]
  },
  {
   "cell_type": "code",
   "execution_count": 961,
   "metadata": {
    "collapsed": false
   },
   "outputs": [
    {
     "name": "stdout",
     "output_type": "stream",
     "text": [
      "********Logistic Regression Classifier***********\n",
      "0.481835564054\n",
      "             precision    recall  f1-score   support\n",
      "\n",
      "        1.0       0.00      0.00      0.00       520\n",
      "        2.0       0.59      0.09      0.15       264\n",
      "        3.0       0.00      0.00      0.00        12\n",
      "        5.0       0.49      0.89      0.63      2859\n",
      "        6.0       0.43      0.20      0.27      2017\n",
      "        7.0       0.41      0.10      0.16       177\n",
      "        8.0       0.00      0.00      0.00       129\n",
      "        9.0       0.21      0.04      0.06       274\n",
      "       10.0       1.00      0.96      0.98        24\n",
      "\n",
      "avg / total       0.41      0.48      0.39      6276\n",
      "\n"
     ]
    }
   ],
   "source": [
    "#Logistic Regression\n",
    "lg = LogisticRegression(multi_class = 'multinomial',solver='newton-cg')\n",
    "y_pred = lg.fit(X_train_minmax, y_train.values.ravel()).predict(X_test_minmax)\n",
    "print '********Logistic Regression Classifier***********'\n",
    "print accuracy_score(y_test,y_pred)\n",
    "print(classification_report(y_test, y_pred))"
   ]
  },
  {
   "cell_type": "code",
   "execution_count": 962,
   "metadata": {
    "collapsed": false
   },
   "outputs": [
    {
     "name": "stdout",
     "output_type": "stream",
     "text": [
      "********Support Vector Machines Classifier***********\n",
      "0.459209687699\n",
      "             precision    recall  f1-score   support\n",
      "\n",
      "        1.0       0.00      0.00      0.00       520\n",
      "        2.0       0.00      0.00      0.00       264\n",
      "        3.0       0.00      0.00      0.00        12\n",
      "        5.0       0.46      1.00      0.63      2859\n",
      "        6.0       0.00      0.00      0.00      2017\n",
      "        7.0       0.00      0.00      0.00       177\n",
      "        8.0       0.00      0.00      0.00       129\n",
      "        9.0       0.00      0.00      0.00       274\n",
      "       10.0       1.00      0.96      0.98        24\n",
      "\n",
      "avg / total       0.21      0.46      0.29      6276\n",
      "\n"
     ]
    }
   ],
   "source": [
    "#Support Vector Machines\n",
    "svc = SVC()\n",
    "y_pred = svc.fit(X_train_minmax, y_train.values.ravel()).predict(X_test_minmax)\n",
    "print '********Support Vector Machines Classifier***********'\n",
    "print accuracy_score(y_test,y_pred)\n",
    "print(classification_report(y_test, y_pred))"
   ]
  },
  {
   "cell_type": "code",
   "execution_count": 963,
   "metadata": {
    "collapsed": false
   },
   "outputs": [
    {
     "name": "stdout",
     "output_type": "stream",
     "text": [
      "********Decision Tree Classifier***********\n",
      "0.378266411727\n",
      "             precision    recall  f1-score   support\n",
      "\n",
      "        1.0       0.14      0.16      0.15       520\n",
      "        2.0       0.17      0.31      0.22       264\n",
      "        3.0       0.00      0.00      0.00        12\n",
      "        4.0       0.00      0.00      0.00         0\n",
      "        5.0       0.48      0.50      0.49      2859\n",
      "        6.0       0.37      0.34      0.36      2017\n",
      "        7.0       0.25      0.25      0.25       177\n",
      "        8.0       0.24      0.06      0.10       129\n",
      "        9.0       0.13      0.02      0.04       274\n",
      "       10.0       1.00      1.00      1.00        24\n",
      "\n",
      "avg / total       0.38      0.38      0.37      6276\n",
      "\n"
     ]
    }
   ],
   "source": [
    "#Decision Tree Classifier\n",
    "dc = DecisionTreeClassifier()\n",
    "y_pred = dc.fit(X_train_minmax, y_train.values.ravel()).predict(X_test_minmax)\n",
    "print '********Decision Tree Classifier***********'\n",
    "print accuracy_score(y_test,y_pred)\n",
    "print(classification_report(y_test, y_pred))"
   ]
  },
  {
   "cell_type": "markdown",
   "metadata": {},
   "source": [
    "# Exporting Data for Visualizations using D3.js  "
   ]
  },
  {
   "cell_type": "code",
   "execution_count": null,
   "metadata": {
    "collapsed": false
   },
   "outputs": [],
   "source": [
    "make_emission = pd.DataFrame(vehicle_emission_df.groupby(['make'])['co2TailpipeGpm'].sum())\n",
    "make_emission.to_csv('make_emission.csv')"
   ]
  },
  {
   "cell_type": "code",
   "execution_count": null,
   "metadata": {
    "collapsed": true
   },
   "outputs": [],
   "source": []
  }
 ],
 "metadata": {
  "kernelspec": {
   "display_name": "Python 2",
   "language": "python",
   "name": "python2"
  },
  "language_info": {
   "codemirror_mode": {
    "name": "ipython",
    "version": 2
   },
   "file_extension": ".py",
   "mimetype": "text/x-python",
   "name": "python",
   "nbconvert_exporter": "python",
   "pygments_lexer": "ipython2",
   "version": "2.7.12"
  }
 },
 "nbformat": 4,
 "nbformat_minor": 0
}
